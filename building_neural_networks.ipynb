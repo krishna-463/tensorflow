{
 "cells": [
  {
   "cell_type": "markdown",
   "id": "e0efcab9",
   "metadata": {},
   "source": [
    "step-1:\n",
    "    to load the dataset using dataset.load_data()\n",
    "step-2:\n",
    "    flatten the image to a singe dimension by reshape((-1,size*size))\n",
    "    then change the datatype for as conventional\n",
    "    then normalize the data. Normally the values are in range from 0 to 256 we have to normalize them to 0 to 1\n",
    "    conversion of numpy arrays to tensors. but it will be done automatically\n",
    "step-3: Building a model\n",
    "    there are two types \n",
    "    Sequential\n",
    "        IT is more convenient and but not flexible\n",
    "        it can handle only one input and one output at a time --> major limitation\n",
    "        \n",
    "        model = keras.Sequential(\n",
    "            [\n",
    "            keras.Inputs(shape=()),\n",
    "            layers.Dense(number of nodes, activation = \"name of the activation function\", name=\"custom_name_of_the_layer\"),\n",
    "            .\n",
    "            .\n",
    "            .layers.Dense(number of output nodes,activation='softmax')\n",
    "            ]\n",
    "            )\n",
    "                                 or\n",
    "            using model.add() function\n",
    "            \n",
    "     Functional:\n",
    "         it is more flexible and can handle any number of inputs and outputs at a time\n",
    "step-4\n",
    "    model.summary() used to get the details of model\n",
    "    model.compile-->these is going to tell keras how to configure that model\n",
    "    model.fit() used for training\n",
    "    model.evaluate() used for testing\n",
    "    \n",
    "    "
   ]
  },
  {
   "cell_type": "code",
   "execution_count": 2,
   "id": "daf7fcaa",
   "metadata": {},
   "outputs": [],
   "source": [
    "import os\n",
    "os.environ['TFF_CPP_MIN_LOG_LEVEL'] = '2'"
   ]
  },
  {
   "cell_type": "code",
   "execution_count": 1,
   "id": "b352a38f",
   "metadata": {},
   "outputs": [],
   "source": [
    "import tensorflow as tf"
   ]
  },
  {
   "cell_type": "code",
   "execution_count": 5,
   "id": "768d8e1e",
   "metadata": {},
   "outputs": [],
   "source": [
    "from tensorflow import keras # used to built the neural networks model"
   ]
  },
  {
   "cell_type": "code",
   "execution_count": 7,
   "id": "4cf8fff4",
   "metadata": {},
   "outputs": [],
   "source": [
    "from tensorflow.keras import layers\n",
    "from tensorflow.keras.datasets import mnist"
   ]
  },
  {
   "cell_type": "markdown",
   "id": "c6681a76",
   "metadata": {},
   "source": [
    "## Mnist dataset\n",
    "#### Numbers ranging from 0 - 9 images\n",
    "#### 60k training images and 10k testing images\n",
    "#### All are grayscale images  28*28"
   ]
  },
  {
   "cell_type": "code",
   "execution_count": 9,
   "id": "12aa42b0",
   "metadata": {},
   "outputs": [
    {
     "name": "stdout",
     "output_type": "stream",
     "text": [
      "Downloading data from https://storage.googleapis.com/tensorflow/tf-keras-datasets/mnist.npz\n",
      "11490434/11490434 [==============================] - 8s 1us/step\n"
     ]
    }
   ],
   "source": [
    "(x_train, y_train), (x_test, y_test) = mnist.load_data()      # loading dataset"
   ]
  },
  {
   "cell_type": "code",
   "execution_count": 10,
   "id": "0f77451a",
   "metadata": {},
   "outputs": [
    {
     "name": "stdout",
     "output_type": "stream",
     "text": [
      "(60000, 28, 28)\n"
     ]
    }
   ],
   "source": [
    "print(x_train.shape)"
   ]
  },
  {
   "cell_type": "code",
   "execution_count": 11,
   "id": "a9b12b39",
   "metadata": {},
   "outputs": [
    {
     "name": "stdout",
     "output_type": "stream",
     "text": [
      "(60000,)\n"
     ]
    }
   ],
   "source": [
    "print(y_train.shape)"
   ]
  },
  {
   "cell_type": "code",
   "execution_count": 12,
   "id": "aaa52744",
   "metadata": {},
   "outputs": [],
   "source": [
    "x_train = x_train.reshape(-1,28*28).astype('float32')/255.0  # flattening the images//  normalising the values between (0,1) converting float64 datatype to float32"
   ]
  },
  {
   "cell_type": "code",
   "execution_count": 14,
   "id": "ce218e11",
   "metadata": {},
   "outputs": [],
   "source": [
    "x_test = x_test.reshape(-1,28*28).astype('float32')/255.0"
   ]
  },
  {
   "cell_type": "markdown",
   "id": "d6e1a429",
   "metadata": {},
   "source": [
    "#### Above all numpy arrays we have to convert them to tensors"
   ]
  },
  {
   "cell_type": "code",
   "execution_count": 15,
   "id": "e43c40c3",
   "metadata": {},
   "outputs": [],
   "source": [
    "# x_train = tf.convert_to_tensor(x_train) --> conversion can be happen automatically"
   ]
  },
  {
   "cell_type": "markdown",
   "id": "92bfaaaa",
   "metadata": {},
   "source": [
    "## Building a model\n",
    "### sequential API--> very convenient and not very flexible  only allows one input and one output-->major limation"
   ]
  },
  {
   "cell_type": "code",
   "execution_count": 36,
   "id": "d19a80d4",
   "metadata": {},
   "outputs": [],
   "source": [
    "model = keras.Sequential(\n",
    "    [\n",
    "         layers.Dense(512,activation='relu'), # Dense for fully connected layer, 512 is number of nodes in layer\n",
    "         layers.Dense(256,activation='relu'), # Automatically sends the data to next layer\n",
    "         layers.Dense(10), # output layer 10 nodes 1 node for each digit, no activation function we can use softmax function in loss   \n",
    "         \n",
    "    ]\n",
    "\n",
    ")"
   ]
  },
  {
   "cell_type": "markdown",
   "id": "8d29f69d",
   "metadata": {},
   "source": [
    "#### we are going to tell keras how to configure that \n",
    "sparse categorical for labels to integers. if there is no sparse then there should be a one-hot-encoding\n",
    "from_logits = True -->for there is no activation function at output. if its true it creates a softmax function at output"
   ]
  },
  {
   "cell_type": "code",
   "execution_count": 37,
   "id": "872e18e3",
   "metadata": {},
   "outputs": [],
   "source": [
    "model.compile(\n",
    "    loss = keras.losses.SparseCategoricalCrossentropy(from_logits = True),\n",
    "    optimizer = keras.optimizers.Adam(learning_rate=0.001),\n",
    "    metrics = [\"accuracy\"]\n",
    ")"
   ]
  },
  {
   "cell_type": "code",
   "execution_count": 38,
   "id": "a04236e4",
   "metadata": {},
   "outputs": [
    {
     "name": "stdout",
     "output_type": "stream",
     "text": [
      "Epoch 1/5\n",
      "1875/1875 - 10s - loss: 0.1832 - accuracy: 0.9441 - 10s/epoch - 5ms/step\n",
      "Epoch 2/5\n",
      "1875/1875 - 9s - loss: 0.0784 - accuracy: 0.9758 - 9s/epoch - 5ms/step\n",
      "Epoch 3/5\n",
      "1875/1875 - 10s - loss: 0.0552 - accuracy: 0.9825 - 10s/epoch - 5ms/step\n",
      "Epoch 4/5\n",
      "1875/1875 - 9s - loss: 0.0417 - accuracy: 0.9868 - 9s/epoch - 5ms/step\n",
      "Epoch 5/5\n",
      "1875/1875 - 9s - loss: 0.0341 - accuracy: 0.9893 - 9s/epoch - 5ms/step\n"
     ]
    },
    {
     "data": {
      "text/plain": [
       "<keras.callbacks.History at 0x1c5c4c13970>"
      ]
     },
     "execution_count": 38,
     "metadata": {},
     "output_type": "execute_result"
    }
   ],
   "source": [
    "model.fit(x_train, y_train, batch_size = 32, epochs=5, verbose=2) #verbose for presenting accuracy after every epoch"
   ]
  },
  {
   "cell_type": "code",
   "execution_count": 39,
   "id": "96282de9",
   "metadata": {},
   "outputs": [
    {
     "name": "stdout",
     "output_type": "stream",
     "text": [
      "313/313 - 1s - loss: 0.0689 - accuracy: 0.9798 - 963ms/epoch - 3ms/step\n"
     ]
    },
    {
     "data": {
      "text/plain": [
       "[0.06887439638376236, 0.9797999858856201]"
      ]
     },
     "execution_count": 39,
     "metadata": {},
     "output_type": "execute_result"
    }
   ],
   "source": [
    "model.evaluate(x_test, y_test, batch_size=32, verbose=2)"
   ]
  },
  {
   "cell_type": "code",
   "execution_count": 40,
   "id": "21954354",
   "metadata": {
    "scrolled": false
   },
   "outputs": [
    {
     "name": "stdout",
     "output_type": "stream",
     "text": [
      "Model: \"sequential_4\"\n",
      "_________________________________________________________________\n",
      " Layer (type)                Output Shape              Param #   \n",
      "=================================================================\n",
      " dense_16 (Dense)            (None, 512)               401920    \n",
      "                                                                 \n",
      " dense_17 (Dense)            (None, 256)               131328    \n",
      "                                                                 \n",
      " dense_18 (Dense)            (None, 10)                2570      \n",
      "                                                                 \n",
      "=================================================================\n",
      "Total params: 535,818\n",
      "Trainable params: 535,818\n",
      "Non-trainable params: 0\n",
      "_________________________________________________________________\n",
      "None\n"
     ]
    }
   ],
   "source": [
    "print(model.summary())"
   ]
  },
  {
   "cell_type": "code",
   "execution_count": 41,
   "id": "31fe3a12",
   "metadata": {},
   "outputs": [],
   "source": [
    "model = keras.Model(inputs=model.inputs,\n",
    "                    outputs=[model.layers[-2].output])  # here -2 is for we can get output from 2nd layer from last\n",
    "                                                        # -1 for last layer -2 for 2nd from last and so on"
   ]
  },
  {
   "cell_type": "code",
   "execution_count": 42,
   "id": "2044e390",
   "metadata": {},
   "outputs": [
    {
     "name": "stdout",
     "output_type": "stream",
     "text": [
      "1875/1875 [==============================] - 5s 3ms/step\n"
     ]
    }
   ],
   "source": [
    "feature = model.predict(x_train)"
   ]
  },
  {
   "cell_type": "code",
   "execution_count": 43,
   "id": "3712ed96",
   "metadata": {},
   "outputs": [
    {
     "data": {
      "text/plain": [
       "(60000, 256)"
      ]
     },
     "execution_count": 43,
     "metadata": {},
     "output_type": "execute_result"
    }
   ],
   "source": [
    "feature.shape"
   ]
  },
  {
   "cell_type": "code",
   "execution_count": 22,
   "id": "06bd0cb2",
   "metadata": {},
   "outputs": [],
   "source": [
    "model1 = keras.Sequential(\n",
    "    [\n",
    "         keras.Input(shape=(28*28)),        \n",
    "         layers.Dense(512,activation='relu'), # Dense for fully connected layer, 512 is number of nodes in layer\n",
    "         layers.Dense(256,activation='relu'), # Automatically sends the data to next layer\n",
    "         layers.Dense(10), # output layer 10 nodes 1 node for each digit, no activation function we can use softmax function in loss   \n",
    "         \n",
    "    ]\n",
    "\n",
    ")"
   ]
  },
  {
   "cell_type": "code",
   "execution_count": 24,
   "id": "7fcf0165",
   "metadata": {
    "scrolled": false
   },
   "outputs": [
    {
     "name": "stdout",
     "output_type": "stream",
     "text": [
      "Model: \"sequential_1\"\n",
      "_________________________________________________________________\n",
      " Layer (type)                Output Shape              Param #   \n",
      "=================================================================\n",
      " dense_3 (Dense)             (None, 512)               401920    \n",
      "                                                                 \n",
      " dense_4 (Dense)             (None, 256)               131328    \n",
      "                                                                 \n",
      " dense_5 (Dense)             (None, 10)                2570      \n",
      "                                                                 \n",
      "=================================================================\n",
      "Total params: 535,818\n",
      "Trainable params: 535,818\n",
      "Non-trainable params: 0\n",
      "_________________________________________________________________\n"
     ]
    }
   ],
   "source": [
    "model1.summary()   # we can place the shape of the input"
   ]
  },
  {
   "cell_type": "markdown",
   "id": "13f41a8c",
   "metadata": {},
   "source": [
    "#### We can built a model using model.add() function also"
   ]
  },
  {
   "cell_type": "code",
   "execution_count": 46,
   "id": "9097e17b",
   "metadata": {},
   "outputs": [],
   "source": [
    "model3 = keras.Sequential()\n",
    "model3.add(keras.Input(shape=(28*28)))\n",
    "model3.add(layers.Dense(512,activation=\"relu\"))\n",
    "model3.add(layers.Dense(216,activation=\"relu\",name = 'second_layer'))\n",
    "model3.add(layers.Dense(10))"
   ]
  },
  {
   "cell_type": "code",
   "execution_count": 49,
   "id": "db7f1bb0",
   "metadata": {
    "scrolled": true
   },
   "outputs": [
    {
     "name": "stdout",
     "output_type": "stream",
     "text": [
      "Model: \"sequential_6\"\n",
      "_________________________________________________________________\n",
      " Layer (type)                Output Shape              Param #   \n",
      "=================================================================\n",
      " dense_21 (Dense)            (None, 512)               401920    \n",
      "                                                                 \n",
      " second_layer (Dense)        (None, 216)               110808    \n",
      "                                                                 \n",
      " dense_22 (Dense)            (None, 10)                2170      \n",
      "                                                                 \n",
      "=================================================================\n",
      "Total params: 514,898\n",
      "Trainable params: 514,898\n",
      "Non-trainable params: 0\n",
      "_________________________________________________________________\n"
     ]
    }
   ],
   "source": [
    "model3.summary()"
   ]
  },
  {
   "cell_type": "code",
   "execution_count": 50,
   "id": "ec2fb08b",
   "metadata": {},
   "outputs": [],
   "source": [
    "model0 = keras.Model(inputs=model3.inputs,\n",
    "                    outputs=[model3.get_layer('second_layer').output]) "
   ]
  },
  {
   "cell_type": "code",
   "execution_count": 52,
   "id": "9349e20e",
   "metadata": {},
   "outputs": [
    {
     "name": "stdout",
     "output_type": "stream",
     "text": [
      "1875/1875 [==============================] - 6s 3ms/step\n"
     ]
    }
   ],
   "source": [
    "feat = model0.predict(x_train)"
   ]
  },
  {
   "cell_type": "code",
   "execution_count": 53,
   "id": "47155ba4",
   "metadata": {},
   "outputs": [
    {
     "data": {
      "text/plain": [
       "(60000, 216)"
      ]
     },
     "execution_count": 53,
     "metadata": {},
     "output_type": "execute_result"
    }
   ],
   "source": [
    "feat.shape"
   ]
  },
  {
   "cell_type": "code",
   "execution_count": 55,
   "id": "97f2a363",
   "metadata": {},
   "outputs": [],
   "source": [
    "model01 = keras.Model(inputs=model3.inputs,\n",
    "                     outputs = [layer.output for layer in model3.layers])"
   ]
  },
  {
   "cell_type": "code",
   "execution_count": 56,
   "id": "698c7448",
   "metadata": {},
   "outputs": [
    {
     "name": "stdout",
     "output_type": "stream",
     "text": [
      "1875/1875 [==============================] - 6s 3ms/step\n"
     ]
    }
   ],
   "source": [
    "features = model01.predict(x_train)"
   ]
  },
  {
   "cell_type": "code",
   "execution_count": 57,
   "id": "84afbe85",
   "metadata": {},
   "outputs": [
    {
     "name": "stdout",
     "output_type": "stream",
     "text": [
      "(60000, 512)\n",
      "(60000, 216)\n",
      "(60000, 10)\n"
     ]
    }
   ],
   "source": [
    "for feature in features:\n",
    "    print(feature.shape)"
   ]
  },
  {
   "cell_type": "code",
   "execution_count": 51,
   "id": "56e7b5bd",
   "metadata": {},
   "outputs": [
    {
     "name": "stdout",
     "output_type": "stream",
     "text": [
      "Model: \"sequential_6\"\n",
      "_________________________________________________________________\n",
      " Layer (type)                Output Shape              Param #   \n",
      "=================================================================\n",
      " dense_21 (Dense)            (None, 512)               401920    \n",
      "                                                                 \n",
      " second_layer (Dense)        (None, 216)               110808    \n",
      "                                                                 \n",
      " dense_22 (Dense)            (None, 10)                2170      \n",
      "                                                                 \n",
      "=================================================================\n",
      "Total params: 514,898\n",
      "Trainable params: 514,898\n",
      "Non-trainable params: 0\n",
      "_________________________________________________________________\n"
     ]
    }
   ],
   "source": [
    "model3.summary()"
   ]
  },
  {
   "cell_type": "markdown",
   "id": "7d68fdb2",
   "metadata": {},
   "source": [
    "## With functional APIs\n",
    "#### which is more flexible it can handle more than one input at a time"
   ]
  },
  {
   "cell_type": "code",
   "execution_count": 28,
   "id": "92a07c14",
   "metadata": {},
   "outputs": [],
   "source": [
    "inputs = keras.Input(shape=(28*28))\n",
    "x = layers.Dense(512, activation='relu')(inputs)   #inputs is for calling the function like a previous input\n",
    "x = layers.Dense(256, activation='relu')(x)\n",
    "outputs = layers.Dense(10, activation = 'softmax')(x)\n",
    "model4 = keras.Model(inputs=inputs, outputs=outputs)"
   ]
  },
  {
   "cell_type": "code",
   "execution_count": 29,
   "id": "a5ab91ac",
   "metadata": {},
   "outputs": [],
   "source": [
    "model4.compile(\n",
    "    loss = keras.losses.SparseCategoricalCrossentropy(from_logits = False), #since in above model i have define the activation function at output\n",
    "    optimizer = keras.optimizers.Adam(learning_rate=0.001),\n",
    "    metrics = [\"accuracy\"]\n",
    ")"
   ]
  },
  {
   "cell_type": "code",
   "execution_count": 30,
   "id": "3f2da1ca",
   "metadata": {},
   "outputs": [
    {
     "name": "stdout",
     "output_type": "stream",
     "text": [
      "Model: \"model\"\n",
      "_________________________________________________________________\n",
      " Layer (type)                Output Shape              Param #   \n",
      "=================================================================\n",
      " input_4 (InputLayer)        [(None, 784)]             0         \n",
      "                                                                 \n",
      " dense_12 (Dense)            (None, 512)               401920    \n",
      "                                                                 \n",
      " dense_13 (Dense)            (None, 256)               131328    \n",
      "                                                                 \n",
      " dense_14 (Dense)            (None, 10)                2570      \n",
      "                                                                 \n",
      "=================================================================\n",
      "Total params: 535,818\n",
      "Trainable params: 535,818\n",
      "Non-trainable params: 0\n",
      "_________________________________________________________________\n"
     ]
    }
   ],
   "source": [
    "model4.summary()"
   ]
  },
  {
   "cell_type": "code",
   "execution_count": 31,
   "id": "173a22ff",
   "metadata": {},
   "outputs": [],
   "source": [
    "inputs = keras.Input(shape=(28*28))\n",
    "x = layers.Dense(512, activation='relu',name = 'first_layer')(inputs)   \n",
    "#inputs is for calling the function like a previous input\n",
    "x = layers.Dense(256, activation='relu', name = \"second_layer\")(x)\n",
    "outputs = layers.Dense(10, activation = 'softmax')(x)\n",
    "model5 = keras.Model(inputs=inputs, outputs=outputs)"
   ]
  },
  {
   "cell_type": "code",
   "execution_count": 32,
   "id": "8bcd815a",
   "metadata": {},
   "outputs": [
    {
     "name": "stdout",
     "output_type": "stream",
     "text": [
      "Model: \"model_1\"\n",
      "_________________________________________________________________\n",
      " Layer (type)                Output Shape              Param #   \n",
      "=================================================================\n",
      " input_5 (InputLayer)        [(None, 784)]             0         \n",
      "                                                                 \n",
      " first_layer (Dense)         (None, 512)               401920    \n",
      "                                                                 \n",
      " second_layer (Dense)        (None, 256)               131328    \n",
      "                                                                 \n",
      " dense_15 (Dense)            (None, 10)                2570      \n",
      "                                                                 \n",
      "=================================================================\n",
      "Total params: 535,818\n",
      "Trainable params: 535,818\n",
      "Non-trainable params: 0\n",
      "_________________________________________________________________\n"
     ]
    }
   ],
   "source": [
    "model5.summary()"
   ]
  },
  {
   "cell_type": "code",
   "execution_count": null,
   "id": "3b07250e",
   "metadata": {},
   "outputs": [],
   "source": []
  }
 ],
 "metadata": {
  "kernelspec": {
   "display_name": "Python 3 (ipykernel)",
   "language": "python",
   "name": "python3"
  },
  "language_info": {
   "codemirror_mode": {
    "name": "ipython",
    "version": 3
   },
   "file_extension": ".py",
   "mimetype": "text/x-python",
   "name": "python",
   "nbconvert_exporter": "python",
   "pygments_lexer": "ipython3",
   "version": "3.9.7"
  }
 },
 "nbformat": 4,
 "nbformat_minor": 5
}
